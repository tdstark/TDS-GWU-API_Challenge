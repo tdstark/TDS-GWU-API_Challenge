{
 "cells": [
  {
   "cell_type": "markdown",
   "metadata": {},
   "source": [
    "# WeatherPy\n",
    "----\n",
    "\n",
    "#### Note\n",
    "* Instructions have been included for each segment. You do not have to follow them exactly, but they are included to help you think through the steps."
   ]
  },
  {
   "cell_type": "code",
   "execution_count": 1,
   "metadata": {
    "scrolled": true
   },
   "outputs": [],
   "source": [
    "# Dependencies and Setup\n",
    "import matplotlib.pyplot as plt\n",
    "import pandas as pd\n",
    "import numpy as np\n",
    "import requests\n",
    "import time\n",
    "from scipy.stats import linregress\n",
    "\n",
    "# Import API key\n",
    "from api_keys import weather_api_key\n",
    "\n",
    "# Incorporated citipy to determine city based on latitude and longitude\n",
    "from citipy import citipy\n",
    "\n",
    "# Output File (CSV)\n",
    "output_data_file = \"output_data/cities.csv\"\n",
    "\n",
    "# Range of latitudes and longitudes\n",
    "lat_range = (-90, 90)\n",
    "lng_range = (-180, 180)"
   ]
  },
  {
   "cell_type": "markdown",
   "metadata": {},
   "source": [
    "## Generate Cities List"
   ]
  },
  {
   "cell_type": "code",
   "execution_count": 2,
   "metadata": {},
   "outputs": [
    {
     "data": {
      "text/plain": [
       "613"
      ]
     },
     "execution_count": 2,
     "metadata": {},
     "output_type": "execute_result"
    }
   ],
   "source": [
    "# List for holding lat_lngs and cities\n",
    "lat_lngs = []\n",
    "cities = []\n",
    "\n",
    "# Create a set of random lat and lng combinations\n",
    "lats = np.random.uniform(lat_range[0], lat_range[1], size=1500)\n",
    "lngs = np.random.uniform(lng_range[0], lng_range[1], size=1500)\n",
    "lat_lngs = zip(lats, lngs)\n",
    "\n",
    "# Identify nearest city for each lat, lng combination\n",
    "for lat_lng in lat_lngs:\n",
    "    city = citipy.nearest_city(lat_lng[0], lat_lng[1]).city_name\n",
    "    \n",
    "    # If the city is unique, then add it to a our cities list\n",
    "    if city not in cities:\n",
    "        cities.append(city)\n",
    "\n",
    "# Print the city count to confirm sufficient count\n",
    "len(cities)"
   ]
  },
  {
   "cell_type": "markdown",
   "metadata": {},
   "source": [
    "### Perform API Calls\n",
    "* Perform a weather check on each city using a series of successive API calls.\n",
    "* Include a print log of each city as it'sbeing processed (with the city number and city name).\n"
   ]
  },
  {
   "cell_type": "code",
   "execution_count": 4,
   "metadata": {},
   "outputs": [
    {
     "name": "stdout",
     "output_type": "stream",
     "text": [
      "Beginning Data Retrieval \n",
      "-----------------------------\n",
      "City not found. Skipping...\n",
      "City not found. Skipping...\n",
      "Processing Record 1 of Set 1 | bethel\n",
      "Processing Record 2 of Set 1 | new norfolk\n",
      "Processing Record 3 of Set 1 | nikolskoye\n",
      "Processing Record 4 of Set 1 | chuy\n",
      "Processing Record 5 of Set 1 | rikitea\n",
      "Processing Record 6 of Set 1 | morehead\n",
      "Processing Record 7 of Set 1 | cape town\n",
      "Processing Record 8 of Set 1 | mataura\n",
      "Processing Record 9 of Set 1 | east london\n",
      "Processing Record 10 of Set 1 | algiers\n",
      "Processing Record 11 of Set 1 | bijar\n",
      "Processing Record 12 of Set 1 | bredasdorp\n",
      "City not found. Skipping...\n",
      "Processing Record 13 of Set 1 | yangambi\n",
      "City not found. Skipping...\n",
      "Processing Record 14 of Set 1 | bluff\n",
      "Processing Record 15 of Set 1 | buchanan\n",
      "Processing Record 16 of Set 1 | roald\n",
      "Processing Record 17 of Set 1 | san patricio\n",
      "Processing Record 18 of Set 1 | norman wells\n",
      "Processing Record 19 of Set 1 | yellowknife\n",
      "Processing Record 20 of Set 1 | ushuaia\n",
      "Processing Record 21 of Set 1 | vila velha\n",
      "City not found. Skipping...\n",
      "Processing Record 22 of Set 1 | barrow\n",
      "Processing Record 23 of Set 1 | taoudenni\n",
      "Processing Record 24 of Set 1 | barranca\n",
      "Processing Record 25 of Set 1 | bonthe\n",
      "Processing Record 26 of Set 1 | pevek\n",
      "Processing Record 27 of Set 1 | hermanus\n",
      "Processing Record 28 of Set 1 | segezha\n",
      "Processing Record 29 of Set 1 | kattivakkam\n",
      "City not found. Skipping...\n",
      "Processing Record 30 of Set 1 | punta arenas\n",
      "Processing Record 31 of Set 1 | port alfred\n",
      "City not found. Skipping...\n",
      "Processing Record 32 of Set 1 | cherskiy\n",
      "Processing Record 33 of Set 1 | sakakah\n",
      "Processing Record 34 of Set 1 | quang ngai\n",
      "City not found. Skipping...\n",
      "Processing Record 35 of Set 1 | shelburne\n",
      "Processing Record 36 of Set 1 | atuona\n",
      "Processing Record 37 of Set 1 | san jose\n",
      "Processing Record 38 of Set 1 | fortuna\n",
      "Processing Record 39 of Set 1 | ribeira grande\n",
      "Processing Record 40 of Set 1 | xuanhua\n",
      "Processing Record 41 of Set 1 | busselton\n",
      "Processing Record 1 of Set 2 | tasiilaq\n",
      "Processing Record 2 of Set 2 | waingapu\n",
      "Processing Record 3 of Set 2 | puerto ayora\n",
      "Processing Record 4 of Set 2 | albany\n",
      "Processing Record 5 of Set 2 | port elizabeth\n",
      "Processing Record 6 of Set 2 | saint-philippe\n",
      "Processing Record 7 of Set 2 | butterworth\n",
      "Processing Record 8 of Set 2 | tezu\n",
      "Processing Record 9 of Set 2 | hilo\n",
      "Processing Record 10 of Set 2 | nizhniy kuranakh\n",
      "Processing Record 11 of Set 2 | manyana\n",
      "City not found. Skipping...\n",
      "Processing Record 12 of Set 2 | nalut\n",
      "Processing Record 13 of Set 2 | jinchang\n",
      "Processing Record 14 of Set 2 | pangkalanbuun\n",
      "Processing Record 15 of Set 2 | mao\n",
      "Processing Record 16 of Set 2 | grindavik\n",
      "Processing Record 17 of Set 2 | souillac\n",
      "Processing Record 18 of Set 2 | torbay\n",
      "Processing Record 19 of Set 2 | lompoc\n",
      "Processing Record 20 of Set 2 | ponta do sol\n",
      "Processing Record 21 of Set 2 | sovetskiy\n",
      "Processing Record 22 of Set 2 | lebu\n",
      "City not found. Skipping...\n",
      "Processing Record 23 of Set 2 | qaanaaq\n",
      "City not found. Skipping...\n",
      "Processing Record 24 of Set 2 | yamethin\n",
      "Processing Record 25 of Set 2 | careiro da varzea\n",
      "Processing Record 26 of Set 2 | jamestown\n",
      "Processing Record 27 of Set 2 | bathsheba\n",
      "Processing Record 28 of Set 2 | tuktoyaktuk\n",
      "Processing Record 29 of Set 2 | kaitangata\n",
      "Processing Record 30 of Set 2 | mahon\n",
      "Processing Record 31 of Set 2 | vaini\n",
      "Processing Record 32 of Set 2 | torit\n",
      "Processing Record 33 of Set 2 | beringovskiy\n",
      "Processing Record 34 of Set 2 | saint george\n",
      "Processing Record 35 of Set 2 | mani\n",
      "Processing Record 36 of Set 2 | isangel\n",
      "Processing Record 37 of Set 2 | palmer\n",
      "Processing Record 38 of Set 2 | sam roi yot\n",
      "Processing Record 39 of Set 2 | fairbanks\n",
      "Processing Record 40 of Set 2 | kamenka\n",
      "Processing Record 41 of Set 2 | neryungri\n",
      "Processing Record 42 of Set 2 | pisco\n",
      "Processing Record 43 of Set 2 | malakal\n",
      "City not found. Skipping...\n",
      "Processing Record 44 of Set 2 | tarabuco\n",
      "Processing Record 45 of Set 2 | chornukhy\n",
      "-----------------------------\n",
      "Data Retrieval Complete\n",
      "-----------------------------\n"
     ]
    }
   ],
   "source": [
    "responses = []\n",
    "\n",
    "setlength = 49\n",
    "citysets = [cities[i:i + setlength] for i in range(0, len(cities), setlength)]\n",
    "citysets = citysets[0:2]\n",
    "\n",
    "print(\"Beginning Data Retrieval \")\n",
    "print(\"-----------------------------\")\n",
    "\n",
    "setcount = 1\n",
    "for csets in citysets:\n",
    "    \n",
    "    # Loop Through List of Cities & Perform a Request for Data on Each\n",
    "    recordcount = 1\n",
    "    for city in csets:\n",
    "\n",
    "        try:\n",
    "            citydict = {}\n",
    "            response = requests.get(f\"http://api.openweathermap.org/data/2.5/weather?appid={weather_api_key}&units=imperial&q={city}\").json()\n",
    "\n",
    "            citydict[\"city_name\"] = response[\"name\"]\n",
    "            citydict[\"country\"] = response[\"sys\"][\"country\"]\n",
    "            citydict[\"date\"] = response[\"dt\"]\n",
    "            citydict[\"latitude\"] = response[\"coord\"][\"lat\"]\n",
    "            citydict[\"longitude\"] = response[\"coord\"][\"lon\"]\n",
    "            citydict[\"max_temp\"] = response[\"main\"][\"temp_max\"]\n",
    "            citydict[\"humidity\"] = response[\"main\"][\"humidity\"]\n",
    "            citydict[\"cloudiness\"] = response[\"clouds\"][\"all\"]\n",
    "            citydict[\"wind_speed\"] = response[\"wind\"][\"speed\"]\n",
    "\n",
    "            responses.append(citydict)\n",
    "            print(f\"Processing Record {recordcount} of Set {setcount} | {city}\")\n",
    "\n",
    "            recordcount += 1  \n",
    "\n",
    "        except:\n",
    "            print(f\"{city} not found. Skipping...\")\n",
    "\n",
    "        \n",
    "    setcount += 1\n",
    "    time.sleep(10)\n",
    "\n",
    "print(\"-----------------------------\")\n",
    "print(\"Data Retrieval Complete\")\n",
    "print(\"-----------------------------\")"
   ]
  },
  {
   "cell_type": "markdown",
   "metadata": {},
   "source": [
    "### Convert Raw Data to DataFrame\n",
    "* Export the city data into a .csv.\n",
    "* Display the DataFrame"
   ]
  },
  {
   "cell_type": "code",
   "execution_count": 10,
   "metadata": {},
   "outputs": [
    {
     "data": {
      "text/plain": [
       "city_name     86\n",
       "country       86\n",
       "date          86\n",
       "latitude      86\n",
       "longitude     86\n",
       "max_temp      86\n",
       "humidity      86\n",
       "cloudiness    86\n",
       "wind_speed    86\n",
       "dtype: int64"
      ]
     },
     "execution_count": 10,
     "metadata": {},
     "output_type": "execute_result"
    }
   ],
   "source": [
    "weatherDF = pd.DataFrame(responses)\n",
    "weatherDF.count()"
   ]
  },
  {
   "cell_type": "markdown",
   "metadata": {},
   "source": [
    "## Inspect the data and remove the cities where the humidity > 100%.\n",
    "----\n",
    "Skip this step if there are no cities that have humidity > 100%. "
   ]
  },
  {
   "cell_type": "code",
   "execution_count": 11,
   "metadata": {},
   "outputs": [
    {
     "data": {
      "text/html": [
       "<div>\n",
       "<style scoped>\n",
       "    .dataframe tbody tr th:only-of-type {\n",
       "        vertical-align: middle;\n",
       "    }\n",
       "\n",
       "    .dataframe tbody tr th {\n",
       "        vertical-align: top;\n",
       "    }\n",
       "\n",
       "    .dataframe thead th {\n",
       "        text-align: right;\n",
       "    }\n",
       "</style>\n",
       "<table border=\"1\" class=\"dataframe\">\n",
       "  <thead>\n",
       "    <tr style=\"text-align: right;\">\n",
       "      <th></th>\n",
       "      <th>date</th>\n",
       "      <th>latitude</th>\n",
       "      <th>longitude</th>\n",
       "      <th>max_temp</th>\n",
       "      <th>humidity</th>\n",
       "      <th>cloudiness</th>\n",
       "      <th>wind_speed</th>\n",
       "    </tr>\n",
       "  </thead>\n",
       "  <tbody>\n",
       "    <tr>\n",
       "      <th>count</th>\n",
       "      <td>8.600000e+01</td>\n",
       "      <td>86.000000</td>\n",
       "      <td>86.000000</td>\n",
       "      <td>86.000000</td>\n",
       "      <td>86.000000</td>\n",
       "      <td>86.000000</td>\n",
       "      <td>86.000000</td>\n",
       "    </tr>\n",
       "    <tr>\n",
       "      <th>mean</th>\n",
       "      <td>1.590067e+09</td>\n",
       "      <td>16.290581</td>\n",
       "      <td>0.196512</td>\n",
       "      <td>64.352093</td>\n",
       "      <td>65.255814</td>\n",
       "      <td>55.441860</td>\n",
       "      <td>8.222674</td>\n",
       "    </tr>\n",
       "    <tr>\n",
       "      <th>std</th>\n",
       "      <td>7.559842e+01</td>\n",
       "      <td>37.318488</td>\n",
       "      <td>94.485416</td>\n",
       "      <td>19.876228</td>\n",
       "      <td>24.272078</td>\n",
       "      <td>39.639435</td>\n",
       "      <td>6.454855</td>\n",
       "    </tr>\n",
       "    <tr>\n",
       "      <th>min</th>\n",
       "      <td>1.590067e+09</td>\n",
       "      <td>-54.800000</td>\n",
       "      <td>-175.200000</td>\n",
       "      <td>19.400000</td>\n",
       "      <td>6.000000</td>\n",
       "      <td>0.000000</td>\n",
       "      <td>0.400000</td>\n",
       "    </tr>\n",
       "    <tr>\n",
       "      <th>25%</th>\n",
       "      <td>1.590067e+09</td>\n",
       "      <td>-19.455000</td>\n",
       "      <td>-73.590000</td>\n",
       "      <td>50.252500</td>\n",
       "      <td>49.250000</td>\n",
       "      <td>8.750000</td>\n",
       "      <td>3.392500</td>\n",
       "    </tr>\n",
       "    <tr>\n",
       "      <th>50%</th>\n",
       "      <td>1.590067e+09</td>\n",
       "      <td>20.080000</td>\n",
       "      <td>4.270000</td>\n",
       "      <td>65.460000</td>\n",
       "      <td>70.000000</td>\n",
       "      <td>75.000000</td>\n",
       "      <td>6.845000</td>\n",
       "    </tr>\n",
       "    <tr>\n",
       "      <th>75%</th>\n",
       "      <td>1.590067e+09</td>\n",
       "      <td>42.490000</td>\n",
       "      <td>62.065000</td>\n",
       "      <td>80.277500</td>\n",
       "      <td>83.000000</td>\n",
       "      <td>90.000000</td>\n",
       "      <td>10.267500</td>\n",
       "    </tr>\n",
       "    <tr>\n",
       "      <th>max</th>\n",
       "      <td>1.590067e+09</td>\n",
       "      <td>77.480000</td>\n",
       "      <td>179.320000</td>\n",
       "      <td>104.250000</td>\n",
       "      <td>100.000000</td>\n",
       "      <td>100.000000</td>\n",
       "      <td>33.330000</td>\n",
       "    </tr>\n",
       "  </tbody>\n",
       "</table>\n",
       "</div>"
      ],
      "text/plain": [
       "               date   latitude   longitude    max_temp    humidity  \\\n",
       "count  8.600000e+01  86.000000   86.000000   86.000000   86.000000   \n",
       "mean   1.590067e+09  16.290581    0.196512   64.352093   65.255814   \n",
       "std    7.559842e+01  37.318488   94.485416   19.876228   24.272078   \n",
       "min    1.590067e+09 -54.800000 -175.200000   19.400000    6.000000   \n",
       "25%    1.590067e+09 -19.455000  -73.590000   50.252500   49.250000   \n",
       "50%    1.590067e+09  20.080000    4.270000   65.460000   70.000000   \n",
       "75%    1.590067e+09  42.490000   62.065000   80.277500   83.000000   \n",
       "max    1.590067e+09  77.480000  179.320000  104.250000  100.000000   \n",
       "\n",
       "       cloudiness  wind_speed  \n",
       "count   86.000000   86.000000  \n",
       "mean    55.441860    8.222674  \n",
       "std     39.639435    6.454855  \n",
       "min      0.000000    0.400000  \n",
       "25%      8.750000    3.392500  \n",
       "50%     75.000000    6.845000  \n",
       "75%     90.000000   10.267500  \n",
       "max    100.000000   33.330000  "
      ]
     },
     "execution_count": 11,
     "metadata": {},
     "output_type": "execute_result"
    }
   ],
   "source": [
    "weatherDF.describe()"
   ]
  },
  {
   "cell_type": "code",
   "execution_count": null,
   "metadata": {},
   "outputs": [],
   "source": [
    "#  Get the indices of cities that have humidity over 100%.\n",
    "humidityindex = weatherDF[weatherDF['humidity'] > 100].index"
   ]
  },
  {
   "cell_type": "code",
   "execution_count": null,
   "metadata": {},
   "outputs": [],
   "source": [
    "# Make a new DataFrame equal to the city data to drop all humidity outliers by index.\n",
    "# Passing \"inplace=False\" will make a copy of the city_data DataFrame, which we call \"clean_city_data\".\n",
    "clean_city_data = weatherDF.drop(humidityindex, inplace=False)"
   ]
  },
  {
   "cell_type": "code",
   "execution_count": null,
   "metadata": {},
   "outputs": [],
   "source": [
    "# Extract relevant fields from the data frame\n",
    "\n",
    "\n",
    "# Export the City_Data into a csv\n",
    "weatherDF.to_csv(\"city_data.csv\")"
   ]
  },
  {
   "cell_type": "markdown",
   "metadata": {},
   "source": [
    "## Plotting the Data\n",
    "* Use proper labeling of the plots using plot titles (including date of analysis) and axes labels.\n",
    "* Save the plotted figures as .pngs."
   ]
  },
  {
   "cell_type": "markdown",
   "metadata": {},
   "source": [
    "## Latitude vs. Temperature Plot"
   ]
  },
  {
   "cell_type": "code",
   "execution_count": null,
   "metadata": {
    "scrolled": true
   },
   "outputs": [],
   "source": []
  },
  {
   "cell_type": "markdown",
   "metadata": {},
   "source": [
    "## Latitude vs. Humidity Plot"
   ]
  },
  {
   "cell_type": "code",
   "execution_count": null,
   "metadata": {},
   "outputs": [],
   "source": []
  },
  {
   "cell_type": "markdown",
   "metadata": {},
   "source": [
    "## Latitude vs. Cloudiness Plot"
   ]
  },
  {
   "cell_type": "code",
   "execution_count": null,
   "metadata": {},
   "outputs": [],
   "source": []
  },
  {
   "cell_type": "markdown",
   "metadata": {},
   "source": [
    "## Latitude vs. Wind Speed Plot"
   ]
  },
  {
   "cell_type": "code",
   "execution_count": null,
   "metadata": {},
   "outputs": [],
   "source": []
  },
  {
   "cell_type": "markdown",
   "metadata": {},
   "source": [
    "## Linear Regression"
   ]
  },
  {
   "cell_type": "code",
   "execution_count": null,
   "metadata": {},
   "outputs": [],
   "source": [
    "# OPTIONAL: Create a function to create Linear Regression plots"
   ]
  },
  {
   "cell_type": "code",
   "execution_count": null,
   "metadata": {},
   "outputs": [],
   "source": [
    "# Create Northern and Southern Hemisphere DataFrames"
   ]
  },
  {
   "cell_type": "markdown",
   "metadata": {},
   "source": [
    "####  Northern Hemisphere - Max Temp vs. Latitude Linear Regression"
   ]
  },
  {
   "cell_type": "code",
   "execution_count": null,
   "metadata": {},
   "outputs": [],
   "source": []
  },
  {
   "cell_type": "markdown",
   "metadata": {},
   "source": [
    "####  Southern Hemisphere - Max Temp vs. Latitude Linear Regression"
   ]
  },
  {
   "cell_type": "code",
   "execution_count": null,
   "metadata": {},
   "outputs": [],
   "source": []
  },
  {
   "cell_type": "markdown",
   "metadata": {},
   "source": [
    "####  Northern Hemisphere - Humidity (%) vs. Latitude Linear Regression"
   ]
  },
  {
   "cell_type": "code",
   "execution_count": null,
   "metadata": {},
   "outputs": [],
   "source": []
  },
  {
   "cell_type": "markdown",
   "metadata": {},
   "source": [
    "####  Southern Hemisphere - Humidity (%) vs. Latitude Linear Regression"
   ]
  },
  {
   "cell_type": "code",
   "execution_count": null,
   "metadata": {},
   "outputs": [],
   "source": []
  },
  {
   "cell_type": "markdown",
   "metadata": {},
   "source": [
    "####  Northern Hemisphere - Cloudiness (%) vs. Latitude Linear Regression"
   ]
  },
  {
   "cell_type": "code",
   "execution_count": null,
   "metadata": {},
   "outputs": [],
   "source": []
  },
  {
   "cell_type": "markdown",
   "metadata": {},
   "source": [
    "####  Southern Hemisphere - Cloudiness (%) vs. Latitude Linear Regression"
   ]
  },
  {
   "cell_type": "code",
   "execution_count": null,
   "metadata": {},
   "outputs": [],
   "source": []
  },
  {
   "cell_type": "markdown",
   "metadata": {},
   "source": [
    "####  Northern Hemisphere - Wind Speed (mph) vs. Latitude Linear Regression"
   ]
  },
  {
   "cell_type": "code",
   "execution_count": null,
   "metadata": {},
   "outputs": [],
   "source": []
  },
  {
   "cell_type": "markdown",
   "metadata": {},
   "source": [
    "####  Southern Hemisphere - Wind Speed (mph) vs. Latitude Linear Regression"
   ]
  },
  {
   "cell_type": "code",
   "execution_count": null,
   "metadata": {},
   "outputs": [],
   "source": []
  },
  {
   "cell_type": "code",
   "execution_count": null,
   "metadata": {},
   "outputs": [],
   "source": []
  }
 ],
 "metadata": {
  "anaconda-cloud": {},
  "kernel_info": {
   "name": "python3"
  },
  "kernelspec": {
   "display_name": "Python 3",
   "language": "python",
   "name": "python3"
  },
  "language_info": {
   "codemirror_mode": {
    "name": "ipython",
    "version": 3
   },
   "file_extension": ".py",
   "mimetype": "text/x-python",
   "name": "python",
   "nbconvert_exporter": "python",
   "pygments_lexer": "ipython3",
   "version": "3.7.6"
  },
  "latex_envs": {
   "LaTeX_envs_menu_present": true,
   "autoclose": false,
   "autocomplete": true,
   "bibliofile": "biblio.bib",
   "cite_by": "apalike",
   "current_citInitial": 1,
   "eqLabelWithNumbers": true,
   "eqNumInitial": 1,
   "hotkeys": {
    "equation": "Ctrl-E",
    "itemize": "Ctrl-I"
   },
   "labels_anchors": false,
   "latex_user_defs": false,
   "report_style_numbering": false,
   "user_envs_cfg": false
  },
  "nteract": {
   "version": "0.12.3"
  }
 },
 "nbformat": 4,
 "nbformat_minor": 4
}
